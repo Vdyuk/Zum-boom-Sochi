{
 "cells": [
  {
   "cell_type": "markdown",
   "id": "a31bc3e8-e4c5-40f1-88d0-aad77b04bfb5",
   "metadata": {},
   "source": [
    "# Implementation of splitting datasets by target_year"
   ]
  },
  {
   "cell_type": "code",
   "execution_count": 10,
   "id": "94eb9f65-eec8-4ab5-b7be-0ed7f8a1f4cf",
   "metadata": {
    "execution": {
     "iopub.execute_input": "2024-04-14T05:44:01.195663Z",
     "iopub.status.busy": "2024-04-14T05:44:01.194954Z",
     "iopub.status.idle": "2024-04-14T05:44:02.014865Z",
     "shell.execute_reply": "2024-04-14T05:44:02.014215Z",
     "shell.execute_reply.started": "2024-04-14T05:44:01.195636Z"
    },
    "tags": []
   },
   "outputs": [],
   "source": [
    "import pandas as pd\n",
    "import numpy as np\n",
    "import matplotlib.pyplot as plt\n",
    "import torch\n",
    "\n",
    "from utils.data import (\n",
    "    get_data_period,\n",
    "    read_data,\n",
    "    print_info,\n",
    "    print_info_targets\n",
    ")"
   ]
  },
  {
   "cell_type": "code",
   "execution_count": 11,
   "id": "49499664-4309-4640-a0a8-aa21ff477362",
   "metadata": {
    "execution": {
     "iopub.execute_input": "2024-04-14T05:44:36.805455Z",
     "iopub.status.busy": "2024-04-14T05:44:36.804896Z",
     "iopub.status.idle": "2024-04-14T05:44:37.122489Z",
     "shell.execute_reply": "2024-04-14T05:44:37.121858Z",
     "shell.execute_reply.started": "2024-04-14T05:44:36.805429Z"
    },
    "tags": []
   },
   "outputs": [],
   "source": [
    "def read_data(path, sep=None):\n",
    "    if sep is not None:\n",
    "        df = pd.read_csv(path, sep=sep)\n",
    "    else:\n",
    "        df = pd.read_csv(path)\n",
    "    # display(path, df.shape, df.head(3))\n",
    "    # display(df.isna().sum())\n",
    "    \n",
    "    return df"
   ]
  },
  {
   "cell_type": "code",
   "execution_count": 12,
   "id": "c19e44b4-b76c-4eee-9f62-71e3944c2b5c",
   "metadata": {
    "execution": {
     "iopub.execute_input": "2024-04-14T05:44:37.286961Z",
     "iopub.status.busy": "2024-04-14T05:44:37.286345Z",
     "iopub.status.idle": "2024-04-14T05:44:37.295433Z",
     "shell.execute_reply": "2024-04-14T05:44:37.294893Z",
     "shell.execute_reply.started": "2024-04-14T05:44:37.286935Z"
    },
    "tags": []
   },
   "outputs": [],
   "source": [
    "from catboost import CatBoostClassifier\n",
    "\n",
    "import torch\n",
    "from ptls.preprocessing import PandasDataPreprocessor\n",
    "from ptls.data_load.utils import FeatureDict\n",
    "from ptls.data_load.datasets import MemoryMapDataset\n",
    "\n",
    "import torch\n",
    "import torchmetrics\n",
    "import pytorch_lightning as ptl\n",
    "\n",
    "from ptls.nn import TrxEncoder, TransformerSeqEncoder, Head, RnnSeqEncoder\n",
    "from ptls.frames.supervised import SeqToTargetDataset, SequenceToTarget\n",
    "from ptls.frames import PtlsDataModule\n",
    "\n",
    "from tqdm.auto import tqdm\n",
    "import polars as pl"
   ]
  },
  {
   "cell_type": "code",
   "execution_count": 13,
   "id": "e2419bdf-d66c-4c32-889a-d194ea38723f",
   "metadata": {
    "execution": {
     "iopub.execute_input": "2024-04-14T05:45:02.049047Z",
     "iopub.status.busy": "2024-04-14T05:45:02.048666Z",
     "iopub.status.idle": "2024-04-14T05:45:13.347168Z",
     "shell.execute_reply": "2024-04-14T05:45:13.346268Z",
     "shell.execute_reply.started": "2024-04-14T05:45:02.049025Z"
    }
   },
   "outputs": [],
   "source": [
    "test_df = read_data('/home/jupyter/datasphere/project/test/test.csv')"
   ]
  },
  {
   "cell_type": "code",
   "execution_count": 14,
   "id": "36f04ccd-d505-4748-b931-ccd20c3848bb",
   "metadata": {
    "execution": {
     "iopub.execute_input": "2024-04-14T05:45:27.271793Z",
     "iopub.status.busy": "2024-04-14T05:45:27.271336Z",
     "iopub.status.idle": "2024-04-14T05:45:27.289093Z",
     "shell.execute_reply": "2024-04-14T05:45:27.288537Z",
     "shell.execute_reply.started": "2024-04-14T05:45:27.271741Z"
    }
   },
   "outputs": [
    {
     "data": {
      "text/plain": [
       "(633434, 41)"
      ]
     },
     "execution_count": 14,
     "metadata": {},
     "output_type": "execute_result"
    }
   ],
   "source": [
    "test_df.shape"
   ]
  },
  {
   "cell_type": "code",
   "execution_count": 16,
   "id": "61e1096f-2cf5-481a-90b0-b17256eda7a2",
   "metadata": {
    "execution": {
     "iopub.execute_input": "2024-04-14T05:45:45.186962Z",
     "iopub.status.busy": "2024-04-14T05:45:45.186379Z",
     "iopub.status.idle": "2024-04-14T05:45:45.261581Z",
     "shell.execute_reply": "2024-04-14T05:45:45.260973Z",
     "shell.execute_reply.started": "2024-04-14T05:45:45.186938Z"
    },
    "tags": []
   },
   "outputs": [
    {
     "data": {
      "text/html": [
       "<div>\n",
       "<style scoped>\n",
       "    .dataframe tbody tr th:only-of-type {\n",
       "        vertical-align: middle;\n",
       "    }\n",
       "\n",
       "    .dataframe tbody tr th {\n",
       "        vertical-align: top;\n",
       "    }\n",
       "\n",
       "    .dataframe thead th {\n",
       "        text-align: right;\n",
       "    }\n",
       "</style>\n",
       "<table border=\"1\" class=\"dataframe\">\n",
       "  <thead>\n",
       "    <tr style=\"text-align: right;\">\n",
       "      <th></th>\n",
       "      <th>slctn_nmbr</th>\n",
       "      <th>client_id</th>\n",
       "      <th>npo_account_id</th>\n",
       "      <th>npo_accnts_nmbr</th>\n",
       "      <th>pmnts_type</th>\n",
       "      <th>year</th>\n",
       "      <th>quarter</th>\n",
       "      <th>gender</th>\n",
       "      <th>age</th>\n",
       "      <th>clnt_cprtn_time_d</th>\n",
       "      <th>actv_prd_d</th>\n",
       "      <th>lst_pmnt_rcnc_d</th>\n",
       "      <th>balance</th>\n",
       "      <th>oprtn_sum_per_qrtr</th>\n",
       "      <th>oprtn_sum_per_year</th>\n",
       "      <th>frst_pmnt_date</th>\n",
       "      <th>lst_pmnt_date_per_qrtr</th>\n",
       "      <th>frst_pmnt</th>\n",
       "      <th>lst_pmnt</th>\n",
       "      <th>pmnts_sum</th>\n",
       "      <th>pmnts_nmbr</th>\n",
       "      <th>pmnts_sum_per_qrtr</th>\n",
       "      <th>pmnts_sum_per_year</th>\n",
       "      <th>pmnts_nmbr_per_qrtr</th>\n",
       "      <th>pmnts_nmbr_per_year</th>\n",
       "      <th>incm_sum</th>\n",
       "      <th>incm_per_qrtr</th>\n",
       "      <th>incm_per_year</th>\n",
       "      <th>mgd_accum_period</th>\n",
       "      <th>mgd_payment_period</th>\n",
       "      <th>phone_number</th>\n",
       "      <th>email</th>\n",
       "      <th>lk</th>\n",
       "      <th>assignee_npo</th>\n",
       "      <th>assignee_ops</th>\n",
       "      <th>postal_code</th>\n",
       "      <th>region</th>\n",
       "      <th>citizen</th>\n",
       "      <th>fact_addrss</th>\n",
       "      <th>appl_mrkr</th>\n",
       "      <th>evry_qrtr_pmnt</th>\n",
       "    </tr>\n",
       "  </thead>\n",
       "  <tbody>\n",
       "    <tr>\n",
       "      <th>0</th>\n",
       "      <td>0</td>\n",
       "      <td>0x589BC912CB844D468212ADD42EAE4151</td>\n",
       "      <td>0xAA9E8DDF1310724995598EA2B42D7D87</td>\n",
       "      <td>2</td>\n",
       "      <td>1</td>\n",
       "      <td>2017</td>\n",
       "      <td>2017Q2</td>\n",
       "      <td>1</td>\n",
       "      <td>54</td>\n",
       "      <td>6595</td>\n",
       "      <td>4543</td>\n",
       "      <td>31</td>\n",
       "      <td>464770.58</td>\n",
       "      <td>10880.44</td>\n",
       "      <td>39763.52</td>\n",
       "      <td>2004-12-31</td>\n",
       "      <td>2017-06-09</td>\n",
       "      <td>19164.90</td>\n",
       "      <td>4168.46</td>\n",
       "      <td>342134.88</td>\n",
       "      <td>151</td>\n",
       "      <td>10880.43</td>\n",
       "      <td>39763.52</td>\n",
       "      <td>3</td>\n",
       "      <td>11</td>\n",
       "      <td>122635.69</td>\n",
       "      <td>-0.00</td>\n",
       "      <td>-0.00</td>\n",
       "      <td>0.0</td>\n",
       "      <td>0.0</td>\n",
       "      <td>-1</td>\n",
       "      <td>0</td>\n",
       "      <td>1</td>\n",
       "      <td>-1</td>\n",
       "      <td>-1</td>\n",
       "      <td>398046.0</td>\n",
       "      <td>ЛИПЕЦКАЯ ОБЛ</td>\n",
       "      <td>1</td>\n",
       "      <td>1</td>\n",
       "      <td>0</td>\n",
       "      <td>1</td>\n",
       "    </tr>\n",
       "    <tr>\n",
       "      <th>1</th>\n",
       "      <td>2</td>\n",
       "      <td>0xCCF22420C90AE4459A25781A9A30F445</td>\n",
       "      <td>0x3B9B09857D152F468A42C5DEE6D723F7</td>\n",
       "      <td>1</td>\n",
       "      <td>3</td>\n",
       "      <td>2021</td>\n",
       "      <td>2021Q4</td>\n",
       "      <td>1</td>\n",
       "      <td>75</td>\n",
       "      <td>7078</td>\n",
       "      <td>0</td>\n",
       "      <td>2209</td>\n",
       "      <td>221.24</td>\n",
       "      <td>10.54</td>\n",
       "      <td>10.54</td>\n",
       "      <td>2015-12-14</td>\n",
       "      <td>NaN</td>\n",
       "      <td>82.48</td>\n",
       "      <td>82.48</td>\n",
       "      <td>82.48</td>\n",
       "      <td>1</td>\n",
       "      <td>-0.00</td>\n",
       "      <td>-0.00</td>\n",
       "      <td>0</td>\n",
       "      <td>0</td>\n",
       "      <td>138.75</td>\n",
       "      <td>10.53</td>\n",
       "      <td>10.53</td>\n",
       "      <td>5.0</td>\n",
       "      <td>5.0</td>\n",
       "      <td>-1</td>\n",
       "      <td>-1</td>\n",
       "      <td>-1</td>\n",
       "      <td>-1</td>\n",
       "      <td>-1</td>\n",
       "      <td>0.0</td>\n",
       "      <td>МОСКВА Г</td>\n",
       "      <td>1</td>\n",
       "      <td>1</td>\n",
       "      <td>0</td>\n",
       "      <td>0</td>\n",
       "    </tr>\n",
       "    <tr>\n",
       "      <th>2</th>\n",
       "      <td>3</td>\n",
       "      <td>0x943D2C768A4FB38311E6605EEA2B9E4A</td>\n",
       "      <td>0xA7F12C768A4FB38311E835E4A7632E00</td>\n",
       "      <td>1</td>\n",
       "      <td>2</td>\n",
       "      <td>2015</td>\n",
       "      <td>2015Q3</td>\n",
       "      <td>1</td>\n",
       "      <td>35</td>\n",
       "      <td>1675</td>\n",
       "      <td>1615</td>\n",
       "      <td>29</td>\n",
       "      <td>27071.14</td>\n",
       "      <td>1850.63</td>\n",
       "      <td>8540.05</td>\n",
       "      <td>2011-04-13</td>\n",
       "      <td>2015-09-14</td>\n",
       "      <td>301.96</td>\n",
       "      <td>948.37</td>\n",
       "      <td>24972.87</td>\n",
       "      <td>54</td>\n",
       "      <td>1850.63</td>\n",
       "      <td>6401.21</td>\n",
       "      <td>3</td>\n",
       "      <td>10</td>\n",
       "      <td>2098.26</td>\n",
       "      <td>-0.00</td>\n",
       "      <td>2138.83</td>\n",
       "      <td>0.0</td>\n",
       "      <td>0.0</td>\n",
       "      <td>0</td>\n",
       "      <td>0</td>\n",
       "      <td>-1</td>\n",
       "      <td>-1</td>\n",
       "      <td>-1</td>\n",
       "      <td>666211.0</td>\n",
       "      <td>ИРКУТСКАЯ ОБЛ</td>\n",
       "      <td>-1</td>\n",
       "      <td>1</td>\n",
       "      <td>0</td>\n",
       "      <td>0</td>\n",
       "    </tr>\n",
       "    <tr>\n",
       "      <th>3</th>\n",
       "      <td>2</td>\n",
       "      <td>0x99E64FD29CC3B04189C5C9EBEAF6F9A4</td>\n",
       "      <td>0xBFE4BDFBE0E037478C29BA4F38121B15</td>\n",
       "      <td>1</td>\n",
       "      <td>1</td>\n",
       "      <td>2015</td>\n",
       "      <td>2015Q3</td>\n",
       "      <td>1</td>\n",
       "      <td>50</td>\n",
       "      <td>5180</td>\n",
       "      <td>3538</td>\n",
       "      <td>30</td>\n",
       "      <td>50580.42</td>\n",
       "      <td>1219.51</td>\n",
       "      <td>6860.62</td>\n",
       "      <td>2005-12-31</td>\n",
       "      <td>2015-09-08</td>\n",
       "      <td>8455.28</td>\n",
       "      <td>406.50</td>\n",
       "      <td>31951.22</td>\n",
       "      <td>118</td>\n",
       "      <td>1219.51</td>\n",
       "      <td>4878.04</td>\n",
       "      <td>3</td>\n",
       "      <td>12</td>\n",
       "      <td>13909.69</td>\n",
       "      <td>-0.00</td>\n",
       "      <td>1982.57</td>\n",
       "      <td>4.0</td>\n",
       "      <td>4.0</td>\n",
       "      <td>-1</td>\n",
       "      <td>-1</td>\n",
       "      <td>-1</td>\n",
       "      <td>-1</td>\n",
       "      <td>-1</td>\n",
       "      <td>162610.0</td>\n",
       "      <td>ВОЛОГОДСКАЯ ОБЛ</td>\n",
       "      <td>1</td>\n",
       "      <td>1</td>\n",
       "      <td>0</td>\n",
       "      <td>1</td>\n",
       "    </tr>\n",
       "    <tr>\n",
       "      <th>4</th>\n",
       "      <td>0</td>\n",
       "      <td>0x654EEEBA731C4A4881816631229C5B65</td>\n",
       "      <td>0x4B5C7804E403C842B4ECBF69BC3EDD7C</td>\n",
       "      <td>2</td>\n",
       "      <td>1</td>\n",
       "      <td>2011</td>\n",
       "      <td>2011Q3</td>\n",
       "      <td>-1</td>\n",
       "      <td>46</td>\n",
       "      <td>296</td>\n",
       "      <td>276</td>\n",
       "      <td>30</td>\n",
       "      <td>7300.73</td>\n",
       "      <td>1747.83</td>\n",
       "      <td>9468.41</td>\n",
       "      <td>2010-12-09</td>\n",
       "      <td>2011-09-11</td>\n",
       "      <td>301.83</td>\n",
       "      <td>1353.97</td>\n",
       "      <td>7299.96</td>\n",
       "      <td>10</td>\n",
       "      <td>1747.83</td>\n",
       "      <td>9220.26</td>\n",
       "      <td>3</td>\n",
       "      <td>12</td>\n",
       "      <td>0.76</td>\n",
       "      <td>-0.00</td>\n",
       "      <td>248.13</td>\n",
       "      <td>0.0</td>\n",
       "      <td>0.0</td>\n",
       "      <td>-1</td>\n",
       "      <td>0</td>\n",
       "      <td>-1</td>\n",
       "      <td>-1</td>\n",
       "      <td>-1</td>\n",
       "      <td>427111.0</td>\n",
       "      <td>УДМУРТСКАЯ РЕСП</td>\n",
       "      <td>1</td>\n",
       "      <td>1</td>\n",
       "      <td>0</td>\n",
       "      <td>1</td>\n",
       "    </tr>\n",
       "  </tbody>\n",
       "</table>\n",
       "</div>"
      ],
      "text/plain": [
       "   slctn_nmbr                           client_id  ... appl_mrkr  evry_qrtr_pmnt\n",
       "0           0  0x589BC912CB844D468212ADD42EAE4151  ...         0               1\n",
       "1           2  0xCCF22420C90AE4459A25781A9A30F445  ...         0               0\n",
       "2           3  0x943D2C768A4FB38311E6605EEA2B9E4A  ...         0               0\n",
       "3           2  0x99E64FD29CC3B04189C5C9EBEAF6F9A4  ...         0               1\n",
       "4           0  0x654EEEBA731C4A4881816631229C5B65  ...         0               1\n",
       "\n",
       "[5 rows x 41 columns]"
      ]
     },
     "execution_count": 16,
     "metadata": {},
     "output_type": "execute_result"
    }
   ],
   "source": [
    "test_df.head()"
   ]
  },
  {
   "cell_type": "code",
   "execution_count": 21,
   "id": "c558b31a-65e3-48e7-8d46-9105c104eec7",
   "metadata": {
    "execution": {
     "iopub.execute_input": "2024-04-14T05:49:30.738238Z",
     "iopub.status.busy": "2024-04-14T05:49:30.737633Z",
     "iopub.status.idle": "2024-04-14T05:49:30.998183Z",
     "shell.execute_reply": "2024-04-14T05:49:30.997490Z",
     "shell.execute_reply.started": "2024-04-14T05:49:30.738212Z"
    },
    "tags": []
   },
   "outputs": [
    {
     "data": {
      "text/plain": [
       "(179743,)"
      ]
     },
     "execution_count": 21,
     "metadata": {},
     "output_type": "execute_result"
    }
   ],
   "source": [
    "test_df['npo_account_id'].unique().shape"
   ]
  },
  {
   "cell_type": "code",
   "execution_count": 26,
   "id": "6cf8b0e0-5db6-49a1-98b3-80d48f3ab9da",
   "metadata": {
    "execution": {
     "iopub.execute_input": "2024-04-14T06:01:06.575314Z",
     "iopub.status.busy": "2024-04-14T06:01:06.574878Z",
     "iopub.status.idle": "2024-04-14T06:01:06.586295Z",
     "shell.execute_reply": "2024-04-14T06:01:06.585677Z",
     "shell.execute_reply.started": "2024-04-14T06:01:06.575289Z"
    },
    "tags": []
   },
   "outputs": [
    {
     "data": {
      "text/plain": [
       "1993"
      ]
     },
     "execution_count": 26,
     "metadata": {},
     "output_type": "execute_result"
    }
   ],
   "source": [
    "test_df['year'].min()"
   ]
  },
  {
   "cell_type": "code",
   "execution_count": null,
   "id": "70a8d5f7-be74-4d68-8a5f-af906758998b",
   "metadata": {
    "execution": {
     "iopub.execute_input": "2024-04-14T05:54:41.808195Z",
     "iopub.status.busy": "2024-04-14T05:54:41.807529Z",
     "iopub.status.idle": "2024-04-14T05:58:49.812278Z"
    },
    "tags": []
   },
   "outputs": [],
   "source": [
    "train_df = read_data('/home/jupyter/datasphere/project/test/test.csv')\n",
    "trnsc_df = read_data('/home/jupyter/datasphere/project/train/trnsctns.csv', sep=';')\n",
    "\n",
    "train_df_pl = pl.from_pandas(train_df)\n",
    "trnsc_df_pl = pl.from_pandas(trnsc_df)\n",
    "\n",
    "trx_df_pl = pl.from_pandas(trnsc_df)\n",
    "trx_df_pl = trx_df_pl.with_columns(quarter = trx_df_pl['quarter'].apply(lambda x: int(x[-1])) - 1)\n",
    "trx_df_dict = trx_df_pl.partition_by('npo_account_id', as_dict='True')"
   ]
  },
  {
   "cell_type": "code",
   "execution_count": 25,
   "id": "b34e838b-e491-4485-8b04-41e9806f3bc4",
   "metadata": {
    "execution": {
     "iopub.execute_input": "2024-04-14T05:58:49.836472Z",
     "iopub.status.busy": "2024-04-14T05:58:49.836095Z",
     "iopub.status.idle": "2024-04-14T05:58:49.849423Z",
     "shell.execute_reply": "2024-04-14T05:58:49.848894Z",
     "shell.execute_reply.started": "2024-04-14T05:58:49.836452Z"
    }
   },
   "outputs": [
    {
     "data": {
      "text/plain": [
       "4"
      ]
     },
     "execution_count": 25,
     "metadata": {},
     "output_type": "execute_result"
    }
   ],
   "source": [
    "2 + 2"
   ]
  },
  {
   "cell_type": "code",
   "execution_count": 29,
   "id": "f647e299-436e-455e-bc15-9aea60a7fbc7",
   "metadata": {
    "execution": {
     "iopub.execute_input": "2024-04-14T06:06:22.071172Z",
     "iopub.status.busy": "2024-04-14T06:06:22.070434Z",
     "iopub.status.idle": "2024-04-14T06:06:22.120912Z",
     "shell.execute_reply": "2024-04-14T06:06:22.120229Z",
     "shell.execute_reply.started": "2024-04-14T06:06:22.071141Z"
    },
    "tags": []
   },
   "outputs": [],
   "source": [
    "import datetime\n",
    "\n",
    "def process_trx(start_trx_year=1990, start_year_targets=1993, end_year_targets=2024):\n",
    "    # Данные для обучения Аггрегаты\n",
    "    train_df_pl = pl.from_pandas(train_df)\n",
    "    targets_train = train_df_pl.filter(\n",
    "        (pl.col('year') >= start_year_targets) & (pl.col('year') < end_year_targets)\n",
    "    )\n",
    "    # Преобразуем год к уникальному идентификатору\n",
    "    years = [i for i in range(1993, 2024)]\n",
    "    year_to_id = {\n",
    "        year: (i+1) for i, year in enumerate(years)\n",
    "    }\n",
    "\n",
    "    #Датафремы с нашими данными\n",
    "    result = []\n",
    "    t_shape = targets_train.shape[0]\n",
    "    i = 0\n",
    "    emtpy_date = datetime.datetime(1, 1, 1).date().strftime('%Y-%m-%d')\n",
    "\n",
    "    empty_trx = {'npo_account_id': [0],\n",
    "                              'npo_sum':[0.],\n",
    "                              'npo_oprtn_date': [emtpy_date],\n",
    "                              'quarter': [0], \n",
    "                              'cat_year': [0],\n",
    "                              'target_year': [0],\n",
    "                              #'target_churn': [0],\n",
    "                              'target_quarter': [0]\n",
    "                }\n",
    "\n",
    "    for row in tqdm(targets_train.iter_rows(named=True), total=t_shape):\n",
    "        #target = row['churn']\n",
    "        id_user = row['npo_account_id']\n",
    "        year = row['year']\n",
    "        quarter = int(row['quarter'][-1]) - 1\n",
    "        source_year = row['year']\n",
    "        soure_q =  quarter\n",
    "        ## Перейти на polars dataframe\n",
    "        if id_user not in trx_df_dict:\n",
    "            print('id_user not found in trx_df_dict')\n",
    "            continue\n",
    "        else:\n",
    "            if quarter == 0:\n",
    "                year -= 1\n",
    "                quarter = 3\n",
    "            else:\n",
    "                quarter -= 1\n",
    "            trx = trx_df_dict[id_user].filter(\n",
    "                (pl.col('year') > start_trx_year) & (pl.col('year') <= year) & ((pl.col('year') != year) | (pl.col('quarter') < quarter))\n",
    "            )\n",
    "        if trx.shape[0] == 0:\n",
    "            #print('loss chain')\n",
    "            #display(id_user, year, quarter, trx_df_dict[id_user])\n",
    "            empty_trx['npo_account_id'] = [id_user]\n",
    "            empty_trx['target_quarter'] = quarter\n",
    "            empty_trx['target_year'] = year_to_id[year]\n",
    "            test = pl.DataFrame(empty_trx)\n",
    "            test = test.with_columns(target_year = test['target_year'].cast(pl.Int32))\n",
    "            #test = test.with_columns(target_churn = test['target_churn'].cast(pl.Int32))\n",
    "            test = test.with_columns(target_quarter = test['target_quarter'].cast(pl.Int32))\n",
    "            result.append(test)\n",
    "            continue\n",
    "\n",
    "        final_trx = trx[['npo_account_id', 'npo_sum', 'npo_oprtn_date', 'quarter']]\n",
    "        final_trx = final_trx.with_columns(cat_year = trx['year'].map_dict(year_to_id))\n",
    "        final_trx = final_trx.with_columns(target_year = source_year)\n",
    "        #final_trx = final_trx.with_columns(target_churn = target)\n",
    "        final_trx = final_trx.with_columns(target_quarter = soure_q)\n",
    "\n",
    "        result.append(final_trx)\n",
    "        \n",
    "    return result"
   ]
  },
  {
   "cell_type": "code",
   "execution_count": null,
   "id": "04918547-d130-403d-be63-b37494bcd82f",
   "metadata": {
    "execution": {
     "iopub.execute_input": "2024-04-14T06:06:22.706941Z",
     "iopub.status.busy": "2024-04-14T06:06:22.706493Z",
     "iopub.status.idle": "2024-04-14T06:52:50.547331Z"
    },
    "tags": []
   },
   "outputs": [
    {
     "name": "stderr",
     "output_type": "stream",
     "text": [
      "100%|██████████| 633434/633434 [46:27<00:00, 227.26it/s] \n"
     ]
    }
   ],
   "source": [
    "test_res = process_trx()"
   ]
  },
  {
   "cell_type": "code",
   "execution_count": null,
   "id": "8370dd03-d95e-4d91-bd0b-da906458ef38",
   "metadata": {
    "execution": {
     "iopub.execute_input": "2024-04-14T06:52:50.549348Z",
     "iopub.status.busy": "2024-04-14T06:52:50.548919Z",
     "iopub.status.idle": "2024-04-14T06:52:50.568664Z"
    }
   },
   "outputs": [
    {
     "data": {
      "text/plain": [
       "633434"
      ]
     },
     "execution_count": 31,
     "metadata": {},
     "output_type": "execute_result"
    }
   ],
   "source": [
    "len(test_res)"
   ]
  },
  {
   "cell_type": "code",
   "execution_count": null,
   "id": "cf9adf9e-2914-4c73-8cd5-bd10301d3337",
   "metadata": {
    "execution": {
     "iopub.execute_input": "2024-04-14T06:52:50.570035Z",
     "iopub.status.busy": "2024-04-14T06:52:50.569673Z",
     "iopub.status.idle": "2024-04-14T06:53:03.060891Z"
    }
   },
   "outputs": [],
   "source": [
    "test_res = pl.concat(test_res)"
   ]
  },
  {
   "cell_type": "code",
   "execution_count": null,
   "id": "58be66a1-02a5-4158-a6b7-9c6062937bae",
   "metadata": {
    "execution": {
     "iopub.execute_input": "2024-04-14T06:53:03.062123Z",
     "iopub.status.busy": "2024-04-14T06:53:03.061753Z",
     "iopub.status.idle": "2024-04-14T06:53:03.122812Z"
    }
   },
   "outputs": [
    {
     "data": {
      "text/html": [
       "<div><style>\n",
       ".dataframe > thead > tr > th,\n",
       ".dataframe > tbody > tr > td {\n",
       "  text-align: right;\n",
       "}\n",
       "</style>\n",
       "<small>shape: (24971108, 7)</small><table border=\"1\" class=\"dataframe\"><thead><tr><th>npo_account_id</th><th>npo_sum</th><th>npo_oprtn_date</th><th>quarter</th><th>cat_year</th><th>target_year</th><th>target_quarter</th></tr><tr><td>str</td><td>f64</td><td>str</td><td>i64</td><td>i64</td><td>i32</td><td>i32</td></tr></thead><tbody><tr><td>&quot;0xAA9E8DDF1310…</td><td>19164.9</td><td>&quot;2004-12-31&quot;</td><td>3</td><td>12</td><td>2017</td><td>1</td></tr><tr><td>&quot;0xAA9E8DDF1310…</td><td>5937.83</td><td>&quot;2004-12-31&quot;</td><td>3</td><td>12</td><td>2017</td><td>1</td></tr><tr><td>&quot;0xAA9E8DDF1310…</td><td>617.07</td><td>&quot;2005-01-10&quot;</td><td>0</td><td>13</td><td>2017</td><td>1</td></tr><tr><td>&quot;0xAA9E8DDF1310…</td><td>614.26</td><td>&quot;2005-02-08&quot;</td><td>0</td><td>13</td><td>2017</td><td>1</td></tr><tr><td>&quot;0xAA9E8DDF1310…</td><td>617.07</td><td>&quot;2005-03-09&quot;</td><td>0</td><td>13</td><td>2017</td><td>1</td></tr><tr><td>&quot;0xAA9E8DDF1310…</td><td>255.78</td><td>&quot;2005-04-07&quot;</td><td>1</td><td>13</td><td>2017</td><td>1</td></tr><tr><td>&quot;0xAA9E8DDF1310…</td><td>583.74</td><td>&quot;2005-05-06&quot;</td><td>1</td><td>13</td><td>2017</td><td>1</td></tr><tr><td>&quot;0xAA9E8DDF1310…</td><td>617.07</td><td>&quot;2005-06-07&quot;</td><td>1</td><td>13</td><td>2017</td><td>1</td></tr><tr><td>&quot;0xAA9E8DDF1310…</td><td>1084.26</td><td>&quot;2005-06-30&quot;</td><td>1</td><td>13</td><td>2017</td><td>1</td></tr><tr><td>&quot;0xAA9E8DDF1310…</td><td>594.63</td><td>&quot;2005-07-07&quot;</td><td>2</td><td>13</td><td>2017</td><td>1</td></tr><tr><td>&quot;0xAA9E8DDF1310…</td><td>617.07</td><td>&quot;2005-08-08&quot;</td><td>2</td><td>13</td><td>2017</td><td>1</td></tr><tr><td>&quot;0xAA9E8DDF1310…</td><td>445.68</td><td>&quot;2005-09-08&quot;</td><td>2</td><td>13</td><td>2017</td><td>1</td></tr><tr><td>&hellip;</td><td>&hellip;</td><td>&hellip;</td><td>&hellip;</td><td>&hellip;</td><td>&hellip;</td><td>&hellip;</td></tr><tr><td>&quot;0x3999B032031B…</td><td>637.65</td><td>&quot;2019-12-11&quot;</td><td>3</td><td>27</td><td>2021</td><td>0</td></tr><tr><td>&quot;0x3999B032031B…</td><td>1100.05</td><td>&quot;2020-01-01&quot;</td><td>0</td><td>28</td><td>2021</td><td>0</td></tr><tr><td>&quot;0x3999B032031B…</td><td>1494.65</td><td>&quot;2020-01-12&quot;</td><td>0</td><td>28</td><td>2021</td><td>0</td></tr><tr><td>&quot;0x3999B032031B…</td><td>1828.43</td><td>&quot;2020-02-12&quot;</td><td>0</td><td>28</td><td>2021</td><td>0</td></tr><tr><td>&quot;0x3999B032031B…</td><td>1756.57</td><td>&quot;2020-03-11&quot;</td><td>0</td><td>28</td><td>2021</td><td>0</td></tr><tr><td>&quot;0x3999B032031B…</td><td>1349.83</td><td>&quot;2020-04-09&quot;</td><td>1</td><td>28</td><td>2021</td><td>0</td></tr><tr><td>&quot;0x3999B032031B…</td><td>1523.2</td><td>&quot;2020-05-11&quot;</td><td>1</td><td>28</td><td>2021</td><td>0</td></tr><tr><td>&quot;0x3999B032031B…</td><td>884.02</td><td>&quot;2020-06-10&quot;</td><td>1</td><td>28</td><td>2021</td><td>0</td></tr><tr><td>&quot;0x3999B032031B…</td><td>1824.91</td><td>&quot;2020-07-09&quot;</td><td>2</td><td>28</td><td>2021</td><td>0</td></tr><tr><td>&quot;0x3999B032031B…</td><td>973.23</td><td>&quot;2020-07-09&quot;</td><td>2</td><td>28</td><td>2021</td><td>0</td></tr><tr><td>&quot;0x3999B032031B…</td><td>1491.78</td><td>&quot;2020-08-11&quot;</td><td>2</td><td>28</td><td>2021</td><td>0</td></tr><tr><td>&quot;0x3999B032031B…</td><td>1984.67</td><td>&quot;2020-09-09&quot;</td><td>2</td><td>28</td><td>2021</td><td>0</td></tr></tbody></table></div>"
      ],
      "text/plain": [
       "shape: (24_971_108, 7)\n",
       "┌───────────────────┬─────────┬────────────────┬─────────┬──────────┬─────────────┬────────────────┐\n",
       "│ npo_account_id    ┆ npo_sum ┆ npo_oprtn_date ┆ quarter ┆ cat_year ┆ target_year ┆ target_quarter │\n",
       "│ ---               ┆ ---     ┆ ---            ┆ ---     ┆ ---      ┆ ---         ┆ ---            │\n",
       "│ str               ┆ f64     ┆ str            ┆ i64     ┆ i64      ┆ i32         ┆ i32            │\n",
       "╞═══════════════════╪═════════╪════════════════╪═════════╪══════════╪═════════════╪════════════════╡\n",
       "│ 0xAA9E8DDF1310724 ┆ 19164.9 ┆ 2004-12-31     ┆ 3       ┆ 12       ┆ 2017        ┆ 1              │\n",
       "│ 995598EA2B42D7D…  ┆         ┆                ┆         ┆          ┆             ┆                │\n",
       "│ 0xAA9E8DDF1310724 ┆ 5937.83 ┆ 2004-12-31     ┆ 3       ┆ 12       ┆ 2017        ┆ 1              │\n",
       "│ 995598EA2B42D7D…  ┆         ┆                ┆         ┆          ┆             ┆                │\n",
       "│ 0xAA9E8DDF1310724 ┆ 617.07  ┆ 2005-01-10     ┆ 0       ┆ 13       ┆ 2017        ┆ 1              │\n",
       "│ 995598EA2B42D7D…  ┆         ┆                ┆         ┆          ┆             ┆                │\n",
       "│ 0xAA9E8DDF1310724 ┆ 614.26  ┆ 2005-02-08     ┆ 0       ┆ 13       ┆ 2017        ┆ 1              │\n",
       "│ 995598EA2B42D7D…  ┆         ┆                ┆         ┆          ┆             ┆                │\n",
       "│ …                 ┆ …       ┆ …              ┆ …       ┆ …        ┆ …           ┆ …              │\n",
       "│ 0x3999B032031B054 ┆ 1824.91 ┆ 2020-07-09     ┆ 2       ┆ 28       ┆ 2021        ┆ 0              │\n",
       "│ C8F1A5C4F57811F…  ┆         ┆                ┆         ┆          ┆             ┆                │\n",
       "│ 0x3999B032031B054 ┆ 973.23  ┆ 2020-07-09     ┆ 2       ┆ 28       ┆ 2021        ┆ 0              │\n",
       "│ C8F1A5C4F57811F…  ┆         ┆                ┆         ┆          ┆             ┆                │\n",
       "│ 0x3999B032031B054 ┆ 1491.78 ┆ 2020-08-11     ┆ 2       ┆ 28       ┆ 2021        ┆ 0              │\n",
       "│ C8F1A5C4F57811F…  ┆         ┆                ┆         ┆          ┆             ┆                │\n",
       "│ 0x3999B032031B054 ┆ 1984.67 ┆ 2020-09-09     ┆ 2       ┆ 28       ┆ 2021        ┆ 0              │\n",
       "│ C8F1A5C4F57811F…  ┆         ┆                ┆         ┆          ┆             ┆                │\n",
       "└───────────────────┴─────────┴────────────────┴─────────┴──────────┴─────────────┴────────────────┘"
      ]
     },
     "execution_count": 33,
     "metadata": {},
     "output_type": "execute_result"
    }
   ],
   "source": [
    "test_res"
   ]
  },
  {
   "cell_type": "code",
   "execution_count": 34,
   "id": "135c5167-df50-44e3-b29c-456fcd6845e7",
   "metadata": {
    "execution": {
     "iopub.execute_input": "2024-04-14T06:55:21.015256Z",
     "iopub.status.busy": "2024-04-14T06:55:21.014661Z",
     "iopub.status.idle": "2024-04-14T06:55:58.668560Z",
     "shell.execute_reply": "2024-04-14T06:55:58.667800Z",
     "shell.execute_reply.started": "2024-04-14T06:55:21.015232Z"
    },
    "tags": []
   },
   "outputs": [],
   "source": [
    "#test_res = pl.concat(test_res)\n",
    "test_res.write_csv('test_answer.csv')"
   ]
  },
  {
   "cell_type": "code",
   "execution_count": null,
   "id": "02ca1ab2-fc74-4f39-b0c2-ec21c2bc08e6",
   "metadata": {
    "execution": {
     "iopub.execute_input": "2024-04-14T05:00:03.859717Z",
     "iopub.status.busy": "2024-04-14T05:00:03.859289Z",
     "iopub.status.idle": "2024-04-14T05:00:03.877422Z"
    },
    "tags": []
   },
   "outputs": [
    {
     "data": {
      "text/plain": [
       "95993917"
      ]
     },
     "execution_count": 9,
     "metadata": {},
     "output_type": "execute_result"
    }
   ],
   "source": [
    "len(test_res)"
   ]
  },
  {
   "cell_type": "code",
   "execution_count": null,
   "id": "e9d044e9-369c-40a5-a065-c28e398de95e",
   "metadata": {},
   "outputs": [],
   "source": []
  }
 ],
 "metadata": {
  "kernelspec": {
   "display_name": "DataSphere Kernel",
   "language": "python",
   "name": "python3"
  },
  "language_info": {
   "codemirror_mode": {
    "name": "ipython",
    "version": 3
   },
   "file_extension": ".py",
   "mimetype": "text/x-python",
   "name": "python",
   "nbconvert_exporter": "python",
   "pygments_lexer": "ipython3",
   "version": "3.10.12"
  }
 },
 "nbformat": 4,
 "nbformat_minor": 5
}
